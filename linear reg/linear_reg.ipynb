{
 "cells": [
  {
   "cell_type": "raw",
   "id": "14041251-5150-4aea-b9b7-556e253bfd52",
   "metadata": {},
   "source": [
    "linear_r -> h(x)= mx+c\n",
    "-> Creating a best-fit line between the points such that the summation of error should be minimal\n",
    "-> cost function = 1/2m(sum((h(x)-y)^2))\n",
    "-> cost function is called the squared error function\n",
    "The cost function should be minimized\n",
    "-> In the cost function m is the no of training sets in the data set\n",
    "-> The graph between the cost function and theta1 is like shae 'U', and the global minima is selected as theta1 for the graph of linear regression\n",
    "-> To understand this graph u can refer to the converse algorithm\n",
    "-> lagging: can we have local minima\n"
   ]
  },
  {
   "cell_type": "markdown",
   "id": "afcffd05-a3a8-4fdb-8cbb-c0acac4f0c81",
   "metadata": {},
   "source": [
    "gradient descent algorithm"
   ]
  },
  {
   "cell_type": "code",
   "execution_count": null,
   "id": "7a61ad2e-e80f-4cbc-99d0-58679e2bfa14",
   "metadata": {},
   "outputs": [],
   "source": []
  }
 ],
 "metadata": {
  "kernelspec": {
   "display_name": "Python 3 (ipykernel)",
   "language": "python",
   "name": "python3"
  },
  "language_info": {
   "codemirror_mode": {
    "name": "ipython",
    "version": 3
   },
   "file_extension": ".py",
   "mimetype": "text/x-python",
   "name": "python",
   "nbconvert_exporter": "python",
   "pygments_lexer": "ipython3",
   "version": "3.12.5"
  }
 },
 "nbformat": 4,
 "nbformat_minor": 5
}
